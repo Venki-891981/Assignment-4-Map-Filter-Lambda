{
 "cells": [
  {
   "cell_type": "markdown",
   "id": "c5f955ae",
   "metadata": {},
   "source": [
    "# Assignment-4: Map | Filter | Lambda\n",
    "    \n",
    "# Play with Lambda\n",
    "\n",
    "# Q1. Write a Python program to create a lambda function that adds 25 to a given number passed in as an argument."
   ]
  },
  {
   "cell_type": "code",
   "execution_count": 3,
   "id": "360ee2d4",
   "metadata": {},
   "outputs": [
    {
     "name": "stdout",
     "output_type": "stream",
     "text": [
      "Please give a number to add 25 to it: 30\n",
      "55.0\n"
     ]
    }
   ],
   "source": [
    "value = float(input(\"Please give a number to add 25 to it: \"))\n",
    "\n",
    "r = lambda a : a + 25\n",
    "print(r(value))"
   ]
  }
 ],
 "metadata": {
  "kernelspec": {
   "display_name": "Python 3 (ipykernel)",
   "language": "python",
   "name": "python3"
  },
  "language_info": {
   "codemirror_mode": {
    "name": "ipython",
    "version": 3
   },
   "file_extension": ".py",
   "mimetype": "text/x-python",
   "name": "python",
   "nbconvert_exporter": "python",
   "pygments_lexer": "ipython3",
   "version": "3.10.9"
  }
 },
 "nbformat": 4,
 "nbformat_minor": 5
}
