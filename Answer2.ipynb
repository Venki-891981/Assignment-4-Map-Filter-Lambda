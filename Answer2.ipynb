{
 "cells": [
  {
   "cell_type": "markdown",
   "id": "277235dd",
   "metadata": {},
   "source": [
    "# Assignment-4: Map | Filter | Lambda\n",
    "    \n",
    "# Find the way with Maps\n",
    "\n",
    "# Q2. Write a Python program to triple all numbers of a given list of integers. Use Python map."
   ]
  },
  {
   "cell_type": "code",
   "execution_count": 5,
   "id": "d96aa748",
   "metadata": {},
   "outputs": [
    {
     "name": "stdout",
     "output_type": "stream",
     "text": [
      "Please enter numbers to tripple :  1,2,3\n",
      "\n",
      "Triple of said list numbers:\n",
      "[3, 6, 9]\n"
     ]
    }
   ],
   "source": [
    "num = eval(input(\"Please enter numbers to tripple :  \"))\n",
    "\n",
    "result = map(lambda x: x + x + x, num) \n",
    "print(\"\\nTriple of said list numbers:\")\n",
    "print(list(result))"
   ]
  },
  {
   "cell_type": "code",
   "execution_count": 4,
   "id": "9c968394",
   "metadata": {},
   "outputs": [
    {
     "name": "stdout",
     "output_type": "stream",
     "text": [
      "Please enter numbers to tripple :  1,2,3\n",
      "\n",
      "Triple of said list numbers:\n",
      "[3, 6, 9]\n"
     ]
    }
   ],
   "source": [
    "num = eval(input(\"Please enter numbers to tripple :  \"))\n",
    "\n",
    "def tripple(num):\n",
    "    num = num+num+num\n",
    "    return num\n",
    "\n",
    "result = map(tripple, num)\n",
    "print(\"\\nTriple of said list numbers:\")\n",
    "print(list(result))\n"
   ]
  },
  {
   "cell_type": "code",
   "execution_count": null,
   "id": "75d7b826",
   "metadata": {},
   "outputs": [],
   "source": []
  }
 ],
 "metadata": {
  "kernelspec": {
   "display_name": "Python 3 (ipykernel)",
   "language": "python",
   "name": "python3"
  },
  "language_info": {
   "codemirror_mode": {
    "name": "ipython",
    "version": 3
   },
   "file_extension": ".py",
   "mimetype": "text/x-python",
   "name": "python",
   "nbconvert_exporter": "python",
   "pygments_lexer": "ipython3",
   "version": "3.10.9"
  }
 },
 "nbformat": 4,
 "nbformat_minor": 5
}
