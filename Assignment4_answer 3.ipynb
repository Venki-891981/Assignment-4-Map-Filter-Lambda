{
 "cells": [
  {
   "cell_type": "markdown",
   "id": "54182bca",
   "metadata": {},
   "source": [
    "# Assignment-4: Map | Filter | Lambda\n",
    "    \n",
    "# Find the Squares from the given List\n",
    "\n",
    "# Q3. Write a Python program to square the elements of a list using map() function."
   ]
  },
  {
   "cell_type": "code",
   "execution_count": 2,
   "id": "2132625e",
   "metadata": {},
   "outputs": [
    {
     "name": "stdout",
     "output_type": "stream",
     "text": [
      "Enter a list of numbers to square: 5,6,7\n",
      "Original List:  (5, 6, 7)\n",
      "Square the elements of the said list using map():\n",
      "[25, 36, 49]\n"
     ]
    }
   ],
   "source": [
    "nums = eval(input(\"Enter a list of numbers to square: \"))\n",
    "\n",
    "def square_num(n):\n",
    "  return n * n\n",
    "\n",
    "print(\"Original List: \",nums)\n",
    "result = map(square_num, nums)\n",
    "print(\"Square the elements of the said list using map():\")\n",
    "print(list(result))"
   ]
  },
  {
   "cell_type": "code",
   "execution_count": 3,
   "id": "3efac46f",
   "metadata": {},
   "outputs": [
    {
     "name": "stdout",
     "output_type": "stream",
     "text": [
      "Enter a list of numbers to square: 8,9,10\n",
      "Original List:  (8, 9, 10)\n",
      "Square the elements of the said list using map():\n",
      "[64, 81, 100]\n"
     ]
    }
   ],
   "source": [
    "nums = eval(input(\"Enter a list of numbers to square: \"))\n",
    "\n",
    "print(\"Original List: \",nums)\n",
    "\n",
    "result = map(lambda x: x*x, nums)\n",
    "\n",
    "print(\"Square the elements of the said list using map():\")\n",
    "print(list(result))"
   ]
  }
 ],
 "metadata": {
  "kernelspec": {
   "display_name": "Python 3 (ipykernel)",
   "language": "python",
   "name": "python3"
  },
  "language_info": {
   "codemirror_mode": {
    "name": "ipython",
    "version": 3
   },
   "file_extension": ".py",
   "mimetype": "text/x-python",
   "name": "python",
   "nbconvert_exporter": "python",
   "pygments_lexer": "ipython3",
   "version": "3.10.9"
  }
 },
 "nbformat": 4,
 "nbformat_minor": 5
}
